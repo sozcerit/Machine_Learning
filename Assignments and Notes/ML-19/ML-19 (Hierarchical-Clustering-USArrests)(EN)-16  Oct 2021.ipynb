{
 "cells": [
  {
   "cell_type": "code",
   "execution_count": 1,
   "id": "fd7df65a-a316-4fcd-a1af-aaff902d36ed",
   "metadata": {},
   "outputs": [
    {
     "data": {
      "text/plain": [
       "8"
      ]
     },
     "execution_count": 1,
     "metadata": {},
     "output_type": "execute_result"
    }
   ],
   "source": [
    "import mkl\n",
    "mkl.set_dynamic(0)"
   ]
  },
  {
   "cell_type": "code",
   "execution_count": 2,
   "id": "54b955fd-d9dc-45ab-8913-e605f024877f",
   "metadata": {},
   "outputs": [],
   "source": [
    "import numpy as np\n",
    "import pandas as pd\n",
    "import matplotlib.pyplot as plt\n",
    "import seaborn as sns"
   ]
  },
  {
   "cell_type": "code",
   "execution_count": 3,
   "id": "89f1981c-ef85-4c94-b17e-d30dd8587d90",
   "metadata": {},
   "outputs": [],
   "source": [
    "df = pd.read_csv('USArrests.csv', index_col=0)"
   ]
  },
  {
   "cell_type": "code",
   "execution_count": 4,
   "id": "601c6f9b-7c7a-48d8-8cd8-493f02109cc5",
   "metadata": {},
   "outputs": [
    {
     "data": {
      "text/html": [
       "<div>\n",
       "<style scoped>\n",
       "    .dataframe tbody tr th:only-of-type {\n",
       "        vertical-align: middle;\n",
       "    }\n",
       "\n",
       "    .dataframe tbody tr th {\n",
       "        vertical-align: top;\n",
       "    }\n",
       "\n",
       "    .dataframe thead th {\n",
       "        text-align: right;\n",
       "    }\n",
       "</style>\n",
       "<table border=\"1\" class=\"dataframe\">\n",
       "  <thead>\n",
       "    <tr style=\"text-align: right;\">\n",
       "      <th></th>\n",
       "      <th>Murder</th>\n",
       "      <th>Assault</th>\n",
       "      <th>UrbanPop</th>\n",
       "      <th>Rape</th>\n",
       "    </tr>\n",
       "  </thead>\n",
       "  <tbody>\n",
       "    <tr>\n",
       "      <th>Alabama</th>\n",
       "      <td>13.2</td>\n",
       "      <td>236</td>\n",
       "      <td>58</td>\n",
       "      <td>21.2</td>\n",
       "    </tr>\n",
       "    <tr>\n",
       "      <th>Alaska</th>\n",
       "      <td>10.0</td>\n",
       "      <td>263</td>\n",
       "      <td>48</td>\n",
       "      <td>44.5</td>\n",
       "    </tr>\n",
       "    <tr>\n",
       "      <th>Arizona</th>\n",
       "      <td>8.1</td>\n",
       "      <td>294</td>\n",
       "      <td>80</td>\n",
       "      <td>31.0</td>\n",
       "    </tr>\n",
       "    <tr>\n",
       "      <th>Arkansas</th>\n",
       "      <td>8.8</td>\n",
       "      <td>190</td>\n",
       "      <td>50</td>\n",
       "      <td>19.5</td>\n",
       "    </tr>\n",
       "    <tr>\n",
       "      <th>California</th>\n",
       "      <td>9.0</td>\n",
       "      <td>276</td>\n",
       "      <td>91</td>\n",
       "      <td>40.6</td>\n",
       "    </tr>\n",
       "  </tbody>\n",
       "</table>\n",
       "</div>"
      ],
      "text/plain": [
       "            Murder  Assault  UrbanPop  Rape\n",
       "Alabama       13.2      236        58  21.2\n",
       "Alaska        10.0      263        48  44.5\n",
       "Arizona        8.1      294        80  31.0\n",
       "Arkansas       8.8      190        50  19.5\n",
       "California     9.0      276        91  40.6"
      ]
     },
     "execution_count": 4,
     "metadata": {},
     "output_type": "execute_result"
    }
   ],
   "source": [
    "df.head()"
   ]
  },
  {
   "cell_type": "code",
   "execution_count": 5,
   "id": "cfd45598-2b79-4797-995d-20c5e6038336",
   "metadata": {},
   "outputs": [
    {
     "data": {
      "text/plain": [
       "(50, 4)"
      ]
     },
     "execution_count": 5,
     "metadata": {},
     "output_type": "execute_result"
    }
   ],
   "source": [
    "df.shape"
   ]
  },
  {
   "cell_type": "code",
   "execution_count": 6,
   "id": "729b0cd5-e7c4-4c70-bf0d-542ec86bab85",
   "metadata": {},
   "outputs": [
    {
     "name": "stdout",
     "output_type": "stream",
     "text": [
      "<class 'pandas.core.frame.DataFrame'>\n",
      "Index: 50 entries, Alabama to Wyoming\n",
      "Data columns (total 4 columns):\n",
      " #   Column    Non-Null Count  Dtype  \n",
      "---  ------    --------------  -----  \n",
      " 0   Murder    50 non-null     float64\n",
      " 1   Assault   50 non-null     int64  \n",
      " 2   UrbanPop  50 non-null     int64  \n",
      " 3   Rape      50 non-null     float64\n",
      "dtypes: float64(2), int64(2)\n",
      "memory usage: 2.0+ KB\n"
     ]
    }
   ],
   "source": [
    "df.info()"
   ]
  },
  {
   "cell_type": "code",
   "execution_count": 7,
   "id": "fe3f8185-2e69-4d3e-af21-7546d0b0bc72",
   "metadata": {},
   "outputs": [
    {
     "data": {
      "text/html": [
       "<div>\n",
       "<style scoped>\n",
       "    .dataframe tbody tr th:only-of-type {\n",
       "        vertical-align: middle;\n",
       "    }\n",
       "\n",
       "    .dataframe tbody tr th {\n",
       "        vertical-align: top;\n",
       "    }\n",
       "\n",
       "    .dataframe thead th {\n",
       "        text-align: right;\n",
       "    }\n",
       "</style>\n",
       "<table border=\"1\" class=\"dataframe\">\n",
       "  <thead>\n",
       "    <tr style=\"text-align: right;\">\n",
       "      <th></th>\n",
       "      <th>Murder</th>\n",
       "      <th>Assault</th>\n",
       "      <th>UrbanPop</th>\n",
       "      <th>Rape</th>\n",
       "    </tr>\n",
       "  </thead>\n",
       "  <tbody>\n",
       "    <tr>\n",
       "      <th>count</th>\n",
       "      <td>50.00000</td>\n",
       "      <td>50.000000</td>\n",
       "      <td>50.000000</td>\n",
       "      <td>50.000000</td>\n",
       "    </tr>\n",
       "    <tr>\n",
       "      <th>mean</th>\n",
       "      <td>7.78800</td>\n",
       "      <td>170.760000</td>\n",
       "      <td>65.540000</td>\n",
       "      <td>21.232000</td>\n",
       "    </tr>\n",
       "    <tr>\n",
       "      <th>std</th>\n",
       "      <td>4.35551</td>\n",
       "      <td>83.337661</td>\n",
       "      <td>14.474763</td>\n",
       "      <td>9.366385</td>\n",
       "    </tr>\n",
       "    <tr>\n",
       "      <th>min</th>\n",
       "      <td>0.80000</td>\n",
       "      <td>45.000000</td>\n",
       "      <td>32.000000</td>\n",
       "      <td>7.300000</td>\n",
       "    </tr>\n",
       "    <tr>\n",
       "      <th>25%</th>\n",
       "      <td>4.07500</td>\n",
       "      <td>109.000000</td>\n",
       "      <td>54.500000</td>\n",
       "      <td>15.075000</td>\n",
       "    </tr>\n",
       "    <tr>\n",
       "      <th>50%</th>\n",
       "      <td>7.25000</td>\n",
       "      <td>159.000000</td>\n",
       "      <td>66.000000</td>\n",
       "      <td>20.100000</td>\n",
       "    </tr>\n",
       "    <tr>\n",
       "      <th>75%</th>\n",
       "      <td>11.25000</td>\n",
       "      <td>249.000000</td>\n",
       "      <td>77.750000</td>\n",
       "      <td>26.175000</td>\n",
       "    </tr>\n",
       "    <tr>\n",
       "      <th>max</th>\n",
       "      <td>17.40000</td>\n",
       "      <td>337.000000</td>\n",
       "      <td>91.000000</td>\n",
       "      <td>46.000000</td>\n",
       "    </tr>\n",
       "  </tbody>\n",
       "</table>\n",
       "</div>"
      ],
      "text/plain": [
       "         Murder     Assault   UrbanPop       Rape\n",
       "count  50.00000   50.000000  50.000000  50.000000\n",
       "mean    7.78800  170.760000  65.540000  21.232000\n",
       "std     4.35551   83.337661  14.474763   9.366385\n",
       "min     0.80000   45.000000  32.000000   7.300000\n",
       "25%     4.07500  109.000000  54.500000  15.075000\n",
       "50%     7.25000  159.000000  66.000000  20.100000\n",
       "75%    11.25000  249.000000  77.750000  26.175000\n",
       "max    17.40000  337.000000  91.000000  46.000000"
      ]
     },
     "execution_count": 7,
     "metadata": {},
     "output_type": "execute_result"
    }
   ],
   "source": [
    "df.describe()"
   ]
  },
  {
   "cell_type": "code",
   "execution_count": 8,
   "id": "9df73647-4649-46a6-a77f-0b95eace19f7",
   "metadata": {},
   "outputs": [
    {
     "data": {
      "text/plain": [
       "<seaborn.axisgrid.PairGrid at 0x3c2e7aa050>"
      ]
     },
     "execution_count": 8,
     "metadata": {},
     "output_type": "execute_result"
    },
    {
     "data": {
      "image/png": "[encoded data removed]",
      "text/plain": [
       "<Figure size 720x720 with 20 Axes>"
      ]
     },
     "metadata": {
      "needs_background": "light"
     },
     "output_type": "display_data"
    }
   ],
   "source": [
    "sns.pairplot(df)"
   ]
  },
  {
   "cell_type": "code",
   "execution_count": 9,
   "id": "8a0d3c85-42f5-4a72-81b5-341d3714254a",
   "metadata": {},
   "outputs": [
    {
     "data": {
      "image/png": "[encoded data removed]",
      "text/plain": [
       "<Figure size 1008x432 with 1 Axes>"
      ]
     },
     "metadata": {
      "needs_background": "light"
     },
     "output_type": "display_data"
    }
   ],
   "source": [
    "plt.figure(figsize = (14,6))\n",
    "sns.barplot(y = \"Murder\", x = df.index, data = df, order = df.Murder.values.sort())\n",
    "plt.xticks(rotation = 90);"
   ]
  },
  {
   "cell_type": "code",
   "execution_count": 10,
   "id": "da3d3fd1-420e-4c08-b804-4dda374b7d77",
   "metadata": {},
   "outputs": [
    {
     "data": {
      "image/png": "[encoded data removed]",
      "text/plain": [
       "<Figure size 1008x432 with 1 Axes>"
      ]
     },
     "metadata": {
      "needs_background": "light"
     },
     "output_type": "display_data"
    }
   ],
   "source": [
    "plt.figure(figsize = (14,6))\n",
    "sns.barplot(y = \"Assault\", x = df.index, data = df, order = df.Assault.values.sort())\n",
    "plt.xticks(rotation = 90);"
   ]
  },
  {
   "cell_type": "code",
   "execution_count": 11,
   "id": "139e3039-34c7-4da6-bde8-7559da6702b0",
   "metadata": {},
   "outputs": [
    {
     "data": {
      "image/png": "[encoded data removed]",
      "text/plain": [
       "<Figure size 1008x432 with 1 Axes>"
      ]
     },
     "metadata": {
      "needs_background": "light"
     },
     "output_type": "display_data"
    }
   ],
   "source": [
    "plt.figure(figsize = (14,6))\n",
    "sns.barplot(y = \"Rape\", x = df.index, data = df, order = df.Rape.values.sort())\n",
    "plt.xticks(rotation = 90);"
   ]
  },
  {
   "cell_type": "code",
   "execution_count": 14,
   "id": "903ea2f4-c351-4a55-a842-908432845f96",
   "metadata": {},
   "outputs": [],
   "source": [
    "from pyclustertend import hopkins"
   ]
  },
  {
   "cell_type": "code",
   "execution_count": 15,
   "id": "373c7cf0-2ac4-41a9-8b65-f54b7ca05277",
   "metadata": {},
   "outputs": [
    {
     "data": {
      "text/plain": [
       "0.3271789988668859"
      ]
     },
     "execution_count": 15,
     "metadata": {},
     "output_type": "execute_result"
    }
   ],
   "source": [
    "hopkins(df, df.shape[0])"
   ]
  },
  {
   "cell_type": "code",
   "execution_count": 16,
   "id": "da3b81a1-e06d-46bf-a6c0-6cc5da168c95",
   "metadata": {},
   "outputs": [],
   "source": [
    "from sklearn.preprocessing import MinMaxScaler, StandardScaler, scale"
   ]
  },
  {
   "cell_type": "code",
   "execution_count": 19,
   "id": "1c284055-9dfc-4b59-be9f-cb076193f225",
   "metadata": {},
   "outputs": [
    {
     "data": {
      "text/plain": [
       "50"
      ]
     },
     "execution_count": 19,
     "metadata": {},
     "output_type": "execute_result"
    }
   ],
   "source": [
    "df.shape[0]"
   ]
  },
  {
   "cell_type": "code",
   "execution_count": 20,
   "id": "4443c48f-234c-4cd0-b7d9-401e8e94639b",
   "metadata": {},
   "outputs": [
    {
     "data": {
      "text/plain": [
       "0.19912495732515062"
      ]
     },
     "execution_count": 20,
     "metadata": {},
     "output_type": "execute_result"
    }
   ],
   "source": [
    "hopkins(MinMaxScaler().fit_transform(df), 50)"
   ]
  },
  {
   "cell_type": "code",
   "execution_count": 21,
   "id": "30e05c74-6898-4d16-b546-ba8391d08e56",
   "metadata": {},
   "outputs": [
    {
     "data": {
      "text/plain": [
       "0.20435626555465564"
      ]
     },
     "execution_count": 21,
     "metadata": {},
     "output_type": "execute_result"
    }
   ],
   "source": [
    "hopkins(StandardScaler().fit_transform(df), 50)"
   ]
  },
  {
   "cell_type": "code",
   "execution_count": 22,
   "id": "f7430cc8-81b9-4f84-a833-3e6a4426d9c4",
   "metadata": {},
   "outputs": [],
   "source": [
    "scaler = MinMaxScaler()"
   ]
  },
  {
   "cell_type": "code",
   "execution_count": 23,
   "id": "9652e6ec-c4cc-4fd4-bcb1-3d599d4a5dac",
   "metadata": {},
   "outputs": [],
   "source": [
    "X = scaler.fit_transform(df)"
   ]
  },
  {
   "cell_type": "code",
   "execution_count": 25,
   "id": "b59a81a3-8080-49be-9b1f-fa3b24648093",
   "metadata": {},
   "outputs": [],
   "source": [
    "from scipy.cluster.hierarchy import dendrogram, linkage"
   ]
  },
  {
   "cell_type": "code",
   "execution_count": 26,
   "id": "bcdb31c6-1e3f-4e71-ae35-363fc202124c",
   "metadata": {},
   "outputs": [],
   "source": [
    "hc_ward = linkage(y = df, method = \"ward\")\n",
    "hc_complete = linkage(df, \"complete\")\n",
    "hc_average = linkage(df, \"average\")\n",
    "hc_single = linkage(df, \"single\")"
   ]
  },
  {
   "cell_type": "code",
   "execution_count": 27,
   "id": "86dc17e4-2621-4b38-b519-59a6356aa067",
   "metadata": {},
   "outputs": [
    {
     "data": {
      "image/png": "[encoded data removed]",
      "text/plain": [
       "<Figure size 1008x504 with 1 Axes>"
      ]
     },
     "metadata": {
      "needs_background": "light"
     },
     "output_type": "display_data"
    }
   ],
   "source": [
    "plt.figure(figsize = (14,7))\n",
    "dendrogram(hc_ward, leaf_font_size = 10);"
   ]
  },
  {
   "cell_type": "code",
   "execution_count": 28,
   "id": "f2094860-5032-4d74-acc9-35bf858e6770",
   "metadata": {},
   "outputs": [
    {
     "data": {
      "image/png": "[encoded data removed]",
      "text/plain": [
       "<Figure size 1008x504 with 1 Axes>"
      ]
     },
     "metadata": {
      "needs_background": "light"
     },
     "output_type": "display_data"
    }
   ],
   "source": [
    "plt.figure(figsize = (14,7))\n",
    "dendrogram(hc_ward,\n",
    "           truncate_mode = \"lastp\",\n",
    "           p = 10,\n",
    "           show_contracted = True,\n",
    "           leaf_font_size = 10);"
   ]
  },
  {
   "cell_type": "code",
   "execution_count": 29,
   "id": "602725d6-9976-406c-8fc1-9eeaa4989f1f",
   "metadata": {},
   "outputs": [
    {
     "data": {
      "image/png": "[encoded data removed]",
      "text/plain": [
       "<Figure size 1440x864 with 4 Axes>"
      ]
     },
     "metadata": {
      "needs_background": "light"
     },
     "output_type": "display_data"
    }
   ],
   "source": [
    "plt.figure(figsize = (20,12))\n",
    "\n",
    "plt.subplot(221)\n",
    "plt.title(\"Ward\")\n",
    "plt.xlabel(\"Observations\")\n",
    "plt.ylabel(\"Distance\")\n",
    "dendrogram(hc_ward, truncate_mode = \"lastp\", p = 10, show_contracted = True, leaf_font_size = 10)\n",
    "\n",
    "plt.subplot(222)\n",
    "plt.title(\"Complete\")\n",
    "plt.xlabel(\"Observations\")\n",
    "plt.ylabel(\"Distance\")\n",
    "dendrogram(hc_complete, truncate_mode = \"lastp\", p = 10, show_contracted = True, leaf_font_size = 10)\n",
    "\n",
    "plt.subplot(223)\n",
    "plt.title(\"Average\")\n",
    "plt.xlabel(\"Observations\")\n",
    "plt.ylabel(\"Distance\")\n",
    "dendrogram(hc_average, truncate_mode = \"lastp\", p = 10, show_contracted = True, leaf_font_size = 10)\n",
    "\n",
    "plt.subplot(224)\n",
    "plt.title(\"Single\")\n",
    "plt.xlabel(\"Observations\")\n",
    "plt.ylabel(\"Distance\")\n",
    "dendrogram(hc_single, truncate_mode = \"lastp\", p = 10, show_contracted = True, leaf_font_size = 10);"
   ]
  },
  {
   "cell_type": "code",
   "execution_count": 30,
   "id": "4c262057-424d-4e72-8b4d-6ab3be0d0b1c",
   "metadata": {},
   "outputs": [
    {
     "data": {
      "image/png": "[encoded data removed]",
      "text/plain": [
       "<Figure size 720x720 with 4 Axes>"
      ]
     },
     "metadata": {
      "needs_background": "light"
     },
     "output_type": "display_data"
    }
   ],
   "source": [
    "sns.clustermap(df);"
   ]
  },
  {
   "cell_type": "code",
   "execution_count": 31,
   "id": "dd795397-3967-409d-a9e9-11f1c7e31b1a",
   "metadata": {},
   "outputs": [],
   "source": [
    "from sklearn.cluster import AgglomerativeClustering"
   ]
  },
  {
   "cell_type": "code",
   "execution_count": 32,
   "id": "2d297b13-0a36-4fba-929d-e7ac21a335ef",
   "metadata": {},
   "outputs": [],
   "source": [
    "from sklearn.metrics import silhouette_score"
   ]
  },
  {
   "cell_type": "code",
   "execution_count": 33,
   "id": "5802117a-ada0-4549-a93b-f483bf37eec3",
   "metadata": {},
   "outputs": [
    {
     "name": "stdout",
     "output_type": "stream",
     "text": [
      "Silhouette Score for 2 clusters: 0.5843563041221426\n",
      "Silhouette Score for 3 clusters: 0.5408473507473215\n",
      "Silhouette Score for 4 clusters: 0.5025920650864762\n",
      "Silhouette Score for 5 clusters: 0.45550538459561596\n",
      "Silhouette Score for 6 clusters: 0.45608767199428596\n",
      "Silhouette Score for 7 clusters: 0.4616961936914634\n",
      "Silhouette Score for 8 clusters: 0.45731208153497954\n",
      "Silhouette Score for 9 clusters: 0.4786579894347773\n"
     ]
    }
   ],
   "source": [
    "K = range(2,10)\n",
    "\n",
    "for k in K:\n",
    "    model = AgglomerativeClustering(n_clusters = k)\n",
    "    model.fit_predict(df)\n",
    "    print(f'Silhouette Score for {k} clusters: {silhouette_score(df, model.labels_)}')"
   ]
  },
  {
   "cell_type": "code",
   "execution_count": 34,
   "id": "e89501ef-798d-44cb-a708-24f09b8da2d9",
   "metadata": {},
   "outputs": [],
   "source": [
    "model = AgglomerativeClustering(n_clusters=3, affinity = \"euclidean\", linkage = \"ward\")\n",
    "clusters = model.fit_predict(df)"
   ]
  },
  {
   "cell_type": "code",
   "execution_count": 36,
   "id": "230655e2-7d72-4397-9cd0-4d974252b57c",
   "metadata": {},
   "outputs": [
    {
     "data": {
      "text/html": [
       "<div>\n",
       "<style scoped>\n",
       "    .dataframe tbody tr th:only-of-type {\n",
       "        vertical-align: middle;\n",
       "    }\n",
       "\n",
       "    .dataframe tbody tr th {\n",
       "        vertical-align: top;\n",
       "    }\n",
       "\n",
       "    .dataframe thead th {\n",
       "        text-align: right;\n",
       "    }\n",
       "</style>\n",
       "<table border=\"1\" class=\"dataframe\">\n",
       "  <thead>\n",
       "    <tr style=\"text-align: right;\">\n",
       "      <th></th>\n",
       "      <th>Murder</th>\n",
       "      <th>Assault</th>\n",
       "      <th>UrbanPop</th>\n",
       "      <th>Rape</th>\n",
       "    </tr>\n",
       "  </thead>\n",
       "  <tbody>\n",
       "    <tr>\n",
       "      <th>Alabama</th>\n",
       "      <td>0.8</td>\n",
       "      <td>45</td>\n",
       "      <td>58</td>\n",
       "      <td>7.3</td>\n",
       "    </tr>\n",
       "    <tr>\n",
       "      <th>Alaska</th>\n",
       "      <td>2.1</td>\n",
       "      <td>46</td>\n",
       "      <td>48</td>\n",
       "      <td>7.8</td>\n",
       "    </tr>\n",
       "    <tr>\n",
       "      <th>Arizona</th>\n",
       "      <td>2.1</td>\n",
       "      <td>48</td>\n",
       "      <td>80</td>\n",
       "      <td>8.3</td>\n",
       "    </tr>\n",
       "    <tr>\n",
       "      <th>Arkansas</th>\n",
       "      <td>2.2</td>\n",
       "      <td>53</td>\n",
       "      <td>50</td>\n",
       "      <td>9.3</td>\n",
       "    </tr>\n",
       "    <tr>\n",
       "      <th>California</th>\n",
       "      <td>2.2</td>\n",
       "      <td>56</td>\n",
       "      <td>91</td>\n",
       "      <td>9.5</td>\n",
       "    </tr>\n",
       "  </tbody>\n",
       "</table>\n",
       "</div>"
      ],
      "text/plain": [
       "            Murder  Assault  UrbanPop  Rape\n",
       "Alabama        0.8       45        58   7.3\n",
       "Alaska         2.1       46        48   7.8\n",
       "Arizona        2.1       48        80   8.3\n",
       "Arkansas       2.2       53        50   9.3\n",
       "California     2.2       56        91   9.5"
      ]
     },
     "execution_count": 36,
     "metadata": {},
     "output_type": "execute_result"
    }
   ],
   "source": [
    "df.head()"
   ]
  },
  {
   "cell_type": "code",
   "execution_count": 35,
   "id": "ead5bb4c-1920-4b27-bc8e-7ffe8f18012e",
   "metadata": {},
   "outputs": [
    {
     "data": {
      "text/plain": [
       "<matplotlib.collections.PathCollection at 0x6432474c90>"
      ]
     },
     "execution_count": 35,
     "metadata": {},
     "output_type": "execute_result"
    },
    {
     "data": {
      "image/png": "[encoded data removed]",
      "text/plain": [
       "<Figure size 432x288 with 1 Axes>"
      ]
     },
     "metadata": {
      "needs_background": "light"
     },
     "output_type": "display_data"
    }
   ],
   "source": [
    "plt.scatter(df.iloc[:,0], df.iloc[:,1], c = clusters, cmap = \"viridis\")"
   ]
  },
  {
   "cell_type": "code",
   "execution_count": 38,
   "id": "9ba2aeed-07c6-40ed-b2ea-df95fabe8365",
   "metadata": {},
   "outputs": [
    {
     "data": {
      "text/plain": [
       "<matplotlib.collections.PathCollection at 0x64321fce90>"
      ]
     },
     "execution_count": 38,
     "metadata": {},
     "output_type": "execute_result"
    },
    {
     "data": {
      "image/png": "[encoded data removed]",
      "text/plain": [
       "<Figure size 720x432 with 1 Axes>"
      ]
     },
     "metadata": {
      "needs_background": "light"
     },
     "output_type": "display_data"
    }
   ],
   "source": [
    "plt.figure(figsize=(10, 6))\n",
    "plt.scatter(df.iloc[:,0], df.iloc[:,2], c = clusters, cmap = \"viridis\")"
   ]
  },
  {
   "cell_type": "code",
   "execution_count": 39,
   "id": "8dbb9daa-c2f6-4513-a839-92c3dc373f6b",
   "metadata": {},
   "outputs": [
    {
     "data": {
      "text/plain": [
       "<matplotlib.collections.PathCollection at 0x6431d25d10>"
      ]
     },
     "execution_count": 39,
     "metadata": {},
     "output_type": "execute_result"
    },
    {
     "data": {
      "image/png": "[encoded data removed]",
      "text/plain": [
       "<Figure size 432x288 with 1 Axes>"
      ]
     },
     "metadata": {
      "needs_background": "light"
     },
     "output_type": "display_data"
    }
   ],
   "source": [
    "plt.scatter(df.iloc[:,0], df.iloc[:,3], c = clusters, cmap = \"viridis\")"
   ]
  },
  {
   "cell_type": "code",
   "execution_count": 40,
   "id": "845253fa-2695-4547-8485-8122ffb4fba5",
   "metadata": {},
   "outputs": [],
   "source": [
    "df[\"predicted_clusters\"] = clusters"
   ]
  },
  {
   "cell_type": "code",
   "execution_count": 41,
   "id": "c498375b-06bd-428e-888d-3d40fd4548b6",
   "metadata": {},
   "outputs": [
    {
     "data": {
      "text/html": [
       "<div>\n",
       "<style scoped>\n",
       "    .dataframe tbody tr th:only-of-type {\n",
       "        vertical-align: middle;\n",
       "    }\n",
       "\n",
       "    .dataframe tbody tr th {\n",
       "        vertical-align: top;\n",
       "    }\n",
       "\n",
       "    .dataframe thead th {\n",
       "        text-align: right;\n",
       "    }\n",
       "</style>\n",
       "<table border=\"1\" class=\"dataframe\">\n",
       "  <thead>\n",
       "    <tr style=\"text-align: right;\">\n",
       "      <th></th>\n",
       "      <th>Murder</th>\n",
       "      <th>Assault</th>\n",
       "      <th>UrbanPop</th>\n",
       "      <th>Rape</th>\n",
       "      <th>predicted_clusters</th>\n",
       "    </tr>\n",
       "  </thead>\n",
       "  <tbody>\n",
       "    <tr>\n",
       "      <th>Alabama</th>\n",
       "      <td>0.8</td>\n",
       "      <td>45</td>\n",
       "      <td>58</td>\n",
       "      <td>7.3</td>\n",
       "      <td>0</td>\n",
       "    </tr>\n",
       "    <tr>\n",
       "      <th>Alaska</th>\n",
       "      <td>2.1</td>\n",
       "      <td>46</td>\n",
       "      <td>48</td>\n",
       "      <td>7.8</td>\n",
       "      <td>0</td>\n",
       "    </tr>\n",
       "    <tr>\n",
       "      <th>Arizona</th>\n",
       "      <td>2.1</td>\n",
       "      <td>48</td>\n",
       "      <td>80</td>\n",
       "      <td>8.3</td>\n",
       "      <td>0</td>\n",
       "    </tr>\n",
       "    <tr>\n",
       "      <th>Arkansas</th>\n",
       "      <td>2.2</td>\n",
       "      <td>53</td>\n",
       "      <td>50</td>\n",
       "      <td>9.3</td>\n",
       "      <td>0</td>\n",
       "    </tr>\n",
       "    <tr>\n",
       "      <th>California</th>\n",
       "      <td>2.2</td>\n",
       "      <td>56</td>\n",
       "      <td>91</td>\n",
       "      <td>9.5</td>\n",
       "      <td>0</td>\n",
       "    </tr>\n",
       "  </tbody>\n",
       "</table>\n",
       "</div>"
      ],
      "text/plain": [
       "            Murder  Assault  UrbanPop  Rape  predicted_clusters\n",
       "Alabama        0.8       45        58   7.3                   0\n",
       "Alaska         2.1       46        48   7.8                   0\n",
       "Arizona        2.1       48        80   8.3                   0\n",
       "Arkansas       2.2       53        50   9.3                   0\n",
       "California     2.2       56        91   9.5                   0"
      ]
     },
     "execution_count": 41,
     "metadata": {},
     "output_type": "execute_result"
    }
   ],
   "source": [
    "df.head()"
   ]
  },
  {
   "cell_type": "code",
   "execution_count": 42,
   "id": "5ac4de24-a4c3-4c56-bca9-8f767211c944",
   "metadata": {},
   "outputs": [
    {
     "data": {
      "text/html": [
       "<div>\n",
       "<style scoped>\n",
       "    .dataframe tbody tr th:only-of-type {\n",
       "        vertical-align: middle;\n",
       "    }\n",
       "\n",
       "    .dataframe tbody tr th {\n",
       "        vertical-align: top;\n",
       "    }\n",
       "\n",
       "    .dataframe thead th {\n",
       "        text-align: right;\n",
       "    }\n",
       "</style>\n",
       "<table border=\"1\" class=\"dataframe\">\n",
       "  <thead>\n",
       "    <tr style=\"text-align: right;\">\n",
       "      <th></th>\n",
       "      <th>Murder</th>\n",
       "      <th>Assault</th>\n",
       "      <th>UrbanPop</th>\n",
       "      <th>Rape</th>\n",
       "    </tr>\n",
       "    <tr>\n",
       "      <th>predicted_clusters</th>\n",
       "      <th></th>\n",
       "      <th></th>\n",
       "      <th></th>\n",
       "      <th></th>\n",
       "    </tr>\n",
       "  </thead>\n",
       "  <tbody>\n",
       "    <tr>\n",
       "      <th>0</th>\n",
       "      <td>3.575000</td>\n",
       "      <td>87.550000</td>\n",
       "      <td>66.900000</td>\n",
       "      <td>12.820000</td>\n",
       "    </tr>\n",
       "    <tr>\n",
       "      <th>1</th>\n",
       "      <td>13.081250</td>\n",
       "      <td>272.562500</td>\n",
       "      <td>63.375000</td>\n",
       "      <td>32.231250</td>\n",
       "    </tr>\n",
       "    <tr>\n",
       "      <th>2</th>\n",
       "      <td>7.757143</td>\n",
       "      <td>173.285714</td>\n",
       "      <td>66.071429</td>\n",
       "      <td>20.678571</td>\n",
       "    </tr>\n",
       "  </tbody>\n",
       "</table>\n",
       "</div>"
      ],
      "text/plain": [
       "                       Murder     Assault   UrbanPop       Rape\n",
       "predicted_clusters                                             \n",
       "0                    3.575000   87.550000  66.900000  12.820000\n",
       "1                   13.081250  272.562500  63.375000  32.231250\n",
       "2                    7.757143  173.285714  66.071429  20.678571"
      ]
     },
     "execution_count": 42,
     "metadata": {},
     "output_type": "execute_result"
    }
   ],
   "source": [
    "df.groupby(\"predicted_clusters\").mean()"
   ]
  },
  {
   "cell_type": "code",
   "execution_count": 43,
   "id": "6b15f033-aa2e-4e7f-a5d5-383b6c33c4cf",
   "metadata": {},
   "outputs": [
    {
     "data": {
      "image/png": "[encoded data removed]",
      "text/plain": [
       "<Figure size 1440x432 with 3 Axes>"
      ]
     },
     "metadata": {
      "needs_background": "light"
     },
     "output_type": "display_data"
    }
   ],
   "source": [
    "plt.figure(figsize = (20,6))\n",
    "\n",
    "plt.subplot(131)\n",
    "sns.boxplot(y = \"Murder\", x = \"predicted_clusters\", data = df)\n",
    "\n",
    "plt.subplot(132)\n",
    "sns.boxplot(y = \"Assault\", x = \"predicted_clusters\", data = df)\n",
    "\n",
    "plt.subplot(133)\n",
    "sns.boxplot(y = \"Rape\", x = \"predicted_clusters\", data = df);"
   ]
  },
  {
   "cell_type": "code",
   "execution_count": 44,
   "id": "a6c2a8d2-245c-4585-81e2-581ac8678ddf",
   "metadata": {},
   "outputs": [
    {
     "data": {
      "text/plain": [
       "0    20\n",
       "1    16\n",
       "2    14\n",
       "Name: predicted_clusters, dtype: int64"
      ]
     },
     "execution_count": 44,
     "metadata": {},
     "output_type": "execute_result"
    }
   ],
   "source": [
    "df.predicted_clusters.value_counts()"
   ]
  },
  {
   "cell_type": "code",
   "execution_count": 45,
   "id": "40cfefe6-b1c0-4bdd-add2-7423e59a7722",
   "metadata": {},
   "outputs": [],
   "source": [
    "maping = {0 : \"low\",\n",
    "          1 : \"high\",\n",
    "          2 : \"medium\"}"
   ]
  },
  {
   "cell_type": "code",
   "execution_count": 46,
   "id": "fc17de26-a4a9-4a20-ae4d-956c7897edfd",
   "metadata": {},
   "outputs": [],
   "source": [
    "df[\"crime_level\"] = df[\"predicted_clusters\"].map(maping)"
   ]
  },
  {
   "cell_type": "code",
   "execution_count": 47,
   "id": "22813a33-8a8e-4132-acb9-551f7000203e",
   "metadata": {},
   "outputs": [
    {
     "data": {
      "text/html": [
       "<div>\n",
       "<style scoped>\n",
       "    .dataframe tbody tr th:only-of-type {\n",
       "        vertical-align: middle;\n",
       "    }\n",
       "\n",
       "    .dataframe tbody tr th {\n",
       "        vertical-align: top;\n",
       "    }\n",
       "\n",
       "    .dataframe thead th {\n",
       "        text-align: right;\n",
       "    }\n",
       "</style>\n",
       "<table border=\"1\" class=\"dataframe\">\n",
       "  <thead>\n",
       "    <tr style=\"text-align: right;\">\n",
       "      <th></th>\n",
       "      <th>Murder</th>\n",
       "      <th>Assault</th>\n",
       "      <th>UrbanPop</th>\n",
       "      <th>Rape</th>\n",
       "      <th>predicted_clusters</th>\n",
       "      <th>crime_level</th>\n",
       "    </tr>\n",
       "  </thead>\n",
       "  <tbody>\n",
       "    <tr>\n",
       "      <th>Alabama</th>\n",
       "      <td>0.8</td>\n",
       "      <td>45</td>\n",
       "      <td>58</td>\n",
       "      <td>7.3</td>\n",
       "      <td>0</td>\n",
       "      <td>low</td>\n",
       "    </tr>\n",
       "    <tr>\n",
       "      <th>Alaska</th>\n",
       "      <td>2.1</td>\n",
       "      <td>46</td>\n",
       "      <td>48</td>\n",
       "      <td>7.8</td>\n",
       "      <td>0</td>\n",
       "      <td>low</td>\n",
       "    </tr>\n",
       "    <tr>\n",
       "      <th>Arizona</th>\n",
       "      <td>2.1</td>\n",
       "      <td>48</td>\n",
       "      <td>80</td>\n",
       "      <td>8.3</td>\n",
       "      <td>0</td>\n",
       "      <td>low</td>\n",
       "    </tr>\n",
       "    <tr>\n",
       "      <th>Arkansas</th>\n",
       "      <td>2.2</td>\n",
       "      <td>53</td>\n",
       "      <td>50</td>\n",
       "      <td>9.3</td>\n",
       "      <td>0</td>\n",
       "      <td>low</td>\n",
       "    </tr>\n",
       "    <tr>\n",
       "      <th>California</th>\n",
       "      <td>2.2</td>\n",
       "      <td>56</td>\n",
       "      <td>91</td>\n",
       "      <td>9.5</td>\n",
       "      <td>0</td>\n",
       "      <td>low</td>\n",
       "    </tr>\n",
       "  </tbody>\n",
       "</table>\n",
       "</div>"
      ],
      "text/plain": [
       "            Murder  Assault  UrbanPop  Rape  predicted_clusters crime_level\n",
       "Alabama        0.8       45        58   7.3                   0         low\n",
       "Alaska         2.1       46        48   7.8                   0         low\n",
       "Arizona        2.1       48        80   8.3                   0         low\n",
       "Arkansas       2.2       53        50   9.3                   0         low\n",
       "California     2.2       56        91   9.5                   0         low"
      ]
     },
     "execution_count": 47,
     "metadata": {},
     "output_type": "execute_result"
    }
   ],
   "source": [
    "df.head()"
   ]
  },
  {
   "cell_type": "code",
   "execution_count": 48,
   "id": "8d6ab2ae-8a5b-4ef0-bed8-99f6e4b51a0b",
   "metadata": {},
   "outputs": [],
   "source": [
    "df.reset_index(inplace=True)"
   ]
  },
  {
   "cell_type": "code",
   "execution_count": 49,
   "id": "fb2e040d-876d-4896-aad9-5d3a31808171",
   "metadata": {},
   "outputs": [
    {
     "data": {
      "text/html": [
       "<div>\n",
       "<style scoped>\n",
       "    .dataframe tbody tr th:only-of-type {\n",
       "        vertical-align: middle;\n",
       "    }\n",
       "\n",
       "    .dataframe tbody tr th {\n",
       "        vertical-align: top;\n",
       "    }\n",
       "\n",
       "    .dataframe thead th {\n",
       "        text-align: right;\n",
       "    }\n",
       "</style>\n",
       "<table border=\"1\" class=\"dataframe\">\n",
       "  <thead>\n",
       "    <tr style=\"text-align: right;\">\n",
       "      <th></th>\n",
       "      <th>index</th>\n",
       "      <th>Murder</th>\n",
       "      <th>Assault</th>\n",
       "      <th>UrbanPop</th>\n",
       "      <th>Rape</th>\n",
       "      <th>predicted_clusters</th>\n",
       "      <th>crime_level</th>\n",
       "    </tr>\n",
       "  </thead>\n",
       "  <tbody>\n",
       "    <tr>\n",
       "      <th>0</th>\n",
       "      <td>Alabama</td>\n",
       "      <td>0.8</td>\n",
       "      <td>45</td>\n",
       "      <td>58</td>\n",
       "      <td>7.3</td>\n",
       "      <td>0</td>\n",
       "      <td>low</td>\n",
       "    </tr>\n",
       "    <tr>\n",
       "      <th>1</th>\n",
       "      <td>Alaska</td>\n",
       "      <td>2.1</td>\n",
       "      <td>46</td>\n",
       "      <td>48</td>\n",
       "      <td>7.8</td>\n",
       "      <td>0</td>\n",
       "      <td>low</td>\n",
       "    </tr>\n",
       "    <tr>\n",
       "      <th>2</th>\n",
       "      <td>Arizona</td>\n",
       "      <td>2.1</td>\n",
       "      <td>48</td>\n",
       "      <td>80</td>\n",
       "      <td>8.3</td>\n",
       "      <td>0</td>\n",
       "      <td>low</td>\n",
       "    </tr>\n",
       "    <tr>\n",
       "      <th>3</th>\n",
       "      <td>Arkansas</td>\n",
       "      <td>2.2</td>\n",
       "      <td>53</td>\n",
       "      <td>50</td>\n",
       "      <td>9.3</td>\n",
       "      <td>0</td>\n",
       "      <td>low</td>\n",
       "    </tr>\n",
       "    <tr>\n",
       "      <th>4</th>\n",
       "      <td>California</td>\n",
       "      <td>2.2</td>\n",
       "      <td>56</td>\n",
       "      <td>91</td>\n",
       "      <td>9.5</td>\n",
       "      <td>0</td>\n",
       "      <td>low</td>\n",
       "    </tr>\n",
       "  </tbody>\n",
       "</table>\n",
       "</div>"
      ],
      "text/plain": [
       "        index  Murder  Assault  UrbanPop  Rape  predicted_clusters crime_level\n",
       "0     Alabama     0.8       45        58   7.3                   0         low\n",
       "1      Alaska     2.1       46        48   7.8                   0         low\n",
       "2     Arizona     2.1       48        80   8.3                   0         low\n",
       "3    Arkansas     2.2       53        50   9.3                   0         low\n",
       "4  California     2.2       56        91   9.5                   0         low"
      ]
     },
     "execution_count": 49,
     "metadata": {},
     "output_type": "execute_result"
    }
   ],
   "source": [
    "df.head()"
   ]
  },
  {
   "cell_type": "code",
   "execution_count": 50,
   "id": "7f5d25da-2d5d-4373-b553-781ea89bf243",
   "metadata": {},
   "outputs": [],
   "source": [
    "df.rename(columns={'index': 'State'}, inplace=True)"
   ]
  },
  {
   "cell_type": "code",
   "execution_count": 51,
   "id": "675686e8-155c-46b9-a5d8-555ad062abdd",
   "metadata": {},
   "outputs": [
    {
     "data": {
      "text/html": [
       "<div>\n",
       "<style scoped>\n",
       "    .dataframe tbody tr th:only-of-type {\n",
       "        vertical-align: middle;\n",
       "    }\n",
       "\n",
       "    .dataframe tbody tr th {\n",
       "        vertical-align: top;\n",
       "    }\n",
       "\n",
       "    .dataframe thead th {\n",
       "        text-align: right;\n",
       "    }\n",
       "</style>\n",
       "<table border=\"1\" class=\"dataframe\">\n",
       "  <thead>\n",
       "    <tr style=\"text-align: right;\">\n",
       "      <th></th>\n",
       "      <th>State</th>\n",
       "      <th>Murder</th>\n",
       "      <th>Assault</th>\n",
       "      <th>UrbanPop</th>\n",
       "      <th>Rape</th>\n",
       "      <th>predicted_clusters</th>\n",
       "      <th>crime_level</th>\n",
       "    </tr>\n",
       "  </thead>\n",
       "  <tbody>\n",
       "    <tr>\n",
       "      <th>0</th>\n",
       "      <td>Alabama</td>\n",
       "      <td>0.8</td>\n",
       "      <td>45</td>\n",
       "      <td>58</td>\n",
       "      <td>7.3</td>\n",
       "      <td>0</td>\n",
       "      <td>low</td>\n",
       "    </tr>\n",
       "    <tr>\n",
       "      <th>1</th>\n",
       "      <td>Alaska</td>\n",
       "      <td>2.1</td>\n",
       "      <td>46</td>\n",
       "      <td>48</td>\n",
       "      <td>7.8</td>\n",
       "      <td>0</td>\n",
       "      <td>low</td>\n",
       "    </tr>\n",
       "    <tr>\n",
       "      <th>2</th>\n",
       "      <td>Arizona</td>\n",
       "      <td>2.1</td>\n",
       "      <td>48</td>\n",
       "      <td>80</td>\n",
       "      <td>8.3</td>\n",
       "      <td>0</td>\n",
       "      <td>low</td>\n",
       "    </tr>\n",
       "    <tr>\n",
       "      <th>3</th>\n",
       "      <td>Arkansas</td>\n",
       "      <td>2.2</td>\n",
       "      <td>53</td>\n",
       "      <td>50</td>\n",
       "      <td>9.3</td>\n",
       "      <td>0</td>\n",
       "      <td>low</td>\n",
       "    </tr>\n",
       "    <tr>\n",
       "      <th>4</th>\n",
       "      <td>California</td>\n",
       "      <td>2.2</td>\n",
       "      <td>56</td>\n",
       "      <td>91</td>\n",
       "      <td>9.5</td>\n",
       "      <td>0</td>\n",
       "      <td>low</td>\n",
       "    </tr>\n",
       "  </tbody>\n",
       "</table>\n",
       "</div>"
      ],
      "text/plain": [
       "        State  Murder  Assault  UrbanPop  Rape  predicted_clusters crime_level\n",
       "0     Alabama     0.8       45        58   7.3                   0         low\n",
       "1      Alaska     2.1       46        48   7.8                   0         low\n",
       "2     Arizona     2.1       48        80   8.3                   0         low\n",
       "3    Arkansas     2.2       53        50   9.3                   0         low\n",
       "4  California     2.2       56        91   9.5                   0         low"
      ]
     },
     "execution_count": 51,
     "metadata": {},
     "output_type": "execute_result"
    }
   ],
   "source": [
    "df.head()"
   ]
  },
  {
   "cell_type": "code",
   "execution_count": 52,
   "id": "2f05a846-412a-4da7-84e8-c6a605f2c6d6",
   "metadata": {},
   "outputs": [
    {
     "data": {
      "text/html": [
       "<div>\n",
       "<style scoped>\n",
       "    .dataframe tbody tr th:only-of-type {\n",
       "        vertical-align: middle;\n",
       "    }\n",
       "\n",
       "    .dataframe tbody tr th {\n",
       "        vertical-align: top;\n",
       "    }\n",
       "\n",
       "    .dataframe thead th {\n",
       "        text-align: right;\n",
       "    }\n",
       "</style>\n",
       "<table border=\"1\" class=\"dataframe\">\n",
       "  <thead>\n",
       "    <tr style=\"text-align: right;\">\n",
       "      <th></th>\n",
       "      <th>State</th>\n",
       "      <th>Murder</th>\n",
       "      <th>Assault</th>\n",
       "      <th>UrbanPop</th>\n",
       "      <th>Rape</th>\n",
       "      <th>predicted_clusters</th>\n",
       "      <th>crime_level</th>\n",
       "    </tr>\n",
       "  </thead>\n",
       "  <tbody>\n",
       "    <tr>\n",
       "      <th>0</th>\n",
       "      <td>Alabama</td>\n",
       "      <td>0.8</td>\n",
       "      <td>45</td>\n",
       "      <td>58</td>\n",
       "      <td>7.3</td>\n",
       "      <td>0</td>\n",
       "      <td>low</td>\n",
       "    </tr>\n",
       "    <tr>\n",
       "      <th>19</th>\n",
       "      <td>Maryland</td>\n",
       "      <td>6.0</td>\n",
       "      <td>120</td>\n",
       "      <td>67</td>\n",
       "      <td>16.5</td>\n",
       "      <td>0</td>\n",
       "      <td>low</td>\n",
       "    </tr>\n",
       "    <tr>\n",
       "      <th>18</th>\n",
       "      <td>Maine</td>\n",
       "      <td>5.9</td>\n",
       "      <td>120</td>\n",
       "      <td>51</td>\n",
       "      <td>16.4</td>\n",
       "      <td>0</td>\n",
       "      <td>low</td>\n",
       "    </tr>\n",
       "    <tr>\n",
       "      <th>17</th>\n",
       "      <td>Louisiana</td>\n",
       "      <td>5.7</td>\n",
       "      <td>120</td>\n",
       "      <td>66</td>\n",
       "      <td>16.3</td>\n",
       "      <td>0</td>\n",
       "      <td>low</td>\n",
       "    </tr>\n",
       "    <tr>\n",
       "      <th>15</th>\n",
       "      <td>Kansas</td>\n",
       "      <td>4.9</td>\n",
       "      <td>113</td>\n",
       "      <td>66</td>\n",
       "      <td>16.1</td>\n",
       "      <td>0</td>\n",
       "      <td>low</td>\n",
       "    </tr>\n",
       "    <tr>\n",
       "      <th>14</th>\n",
       "      <td>Iowa</td>\n",
       "      <td>4.4</td>\n",
       "      <td>110</td>\n",
       "      <td>57</td>\n",
       "      <td>15.8</td>\n",
       "      <td>0</td>\n",
       "      <td>low</td>\n",
       "    </tr>\n",
       "    <tr>\n",
       "      <th>13</th>\n",
       "      <td>Indiana</td>\n",
       "      <td>4.3</td>\n",
       "      <td>109</td>\n",
       "      <td>65</td>\n",
       "      <td>15.6</td>\n",
       "      <td>0</td>\n",
       "      <td>low</td>\n",
       "    </tr>\n",
       "    <tr>\n",
       "      <th>12</th>\n",
       "      <td>Illinois</td>\n",
       "      <td>4.0</td>\n",
       "      <td>109</td>\n",
       "      <td>83</td>\n",
       "      <td>14.9</td>\n",
       "      <td>0</td>\n",
       "      <td>low</td>\n",
       "    </tr>\n",
       "    <tr>\n",
       "      <th>11</th>\n",
       "      <td>Idaho</td>\n",
       "      <td>3.8</td>\n",
       "      <td>106</td>\n",
       "      <td>54</td>\n",
       "      <td>14.9</td>\n",
       "      <td>0</td>\n",
       "      <td>low</td>\n",
       "    </tr>\n",
       "    <tr>\n",
       "      <th>10</th>\n",
       "      <td>Hawaii</td>\n",
       "      <td>3.4</td>\n",
       "      <td>102</td>\n",
       "      <td>83</td>\n",
       "      <td>14.2</td>\n",
       "      <td>0</td>\n",
       "      <td>low</td>\n",
       "    </tr>\n",
       "    <tr>\n",
       "      <th>16</th>\n",
       "      <td>Kentucky</td>\n",
       "      <td>5.3</td>\n",
       "      <td>115</td>\n",
       "      <td>52</td>\n",
       "      <td>16.3</td>\n",
       "      <td>0</td>\n",
       "      <td>low</td>\n",
       "    </tr>\n",
       "    <tr>\n",
       "      <th>8</th>\n",
       "      <td>Florida</td>\n",
       "      <td>3.2</td>\n",
       "      <td>83</td>\n",
       "      <td>80</td>\n",
       "      <td>11.3</td>\n",
       "      <td>0</td>\n",
       "      <td>low</td>\n",
       "    </tr>\n",
       "    <tr>\n",
       "      <th>7</th>\n",
       "      <td>Delaware</td>\n",
       "      <td>2.7</td>\n",
       "      <td>81</td>\n",
       "      <td>72</td>\n",
       "      <td>11.2</td>\n",
       "      <td>0</td>\n",
       "      <td>low</td>\n",
       "    </tr>\n",
       "    <tr>\n",
       "      <th>6</th>\n",
       "      <td>Connecticut</td>\n",
       "      <td>2.6</td>\n",
       "      <td>72</td>\n",
       "      <td>77</td>\n",
       "      <td>11.1</td>\n",
       "      <td>0</td>\n",
       "      <td>low</td>\n",
       "    </tr>\n",
       "    <tr>\n",
       "      <th>5</th>\n",
       "      <td>Colorado</td>\n",
       "      <td>2.6</td>\n",
       "      <td>57</td>\n",
       "      <td>78</td>\n",
       "      <td>10.8</td>\n",
       "      <td>0</td>\n",
       "      <td>low</td>\n",
       "    </tr>\n",
       "    <tr>\n",
       "      <th>4</th>\n",
       "      <td>California</td>\n",
       "      <td>2.2</td>\n",
       "      <td>56</td>\n",
       "      <td>91</td>\n",
       "      <td>9.5</td>\n",
       "      <td>0</td>\n",
       "      <td>low</td>\n",
       "    </tr>\n",
       "    <tr>\n",
       "      <th>3</th>\n",
       "      <td>Arkansas</td>\n",
       "      <td>2.2</td>\n",
       "      <td>53</td>\n",
       "      <td>50</td>\n",
       "      <td>9.3</td>\n",
       "      <td>0</td>\n",
       "      <td>low</td>\n",
       "    </tr>\n",
       "    <tr>\n",
       "      <th>2</th>\n",
       "      <td>Arizona</td>\n",
       "      <td>2.1</td>\n",
       "      <td>48</td>\n",
       "      <td>80</td>\n",
       "      <td>8.3</td>\n",
       "      <td>0</td>\n",
       "      <td>low</td>\n",
       "    </tr>\n",
       "    <tr>\n",
       "      <th>1</th>\n",
       "      <td>Alaska</td>\n",
       "      <td>2.1</td>\n",
       "      <td>46</td>\n",
       "      <td>48</td>\n",
       "      <td>7.8</td>\n",
       "      <td>0</td>\n",
       "      <td>low</td>\n",
       "    </tr>\n",
       "    <tr>\n",
       "      <th>9</th>\n",
       "      <td>Georgia</td>\n",
       "      <td>3.3</td>\n",
       "      <td>86</td>\n",
       "      <td>60</td>\n",
       "      <td>12.8</td>\n",
       "      <td>0</td>\n",
       "      <td>low</td>\n",
       "    </tr>\n",
       "    <tr>\n",
       "      <th>36</th>\n",
       "      <td>Oregon</td>\n",
       "      <td>11.1</td>\n",
       "      <td>249</td>\n",
       "      <td>67</td>\n",
       "      <td>26.1</td>\n",
       "      <td>1</td>\n",
       "      <td>high</td>\n",
       "    </tr>\n",
       "    <tr>\n",
       "      <th>37</th>\n",
       "      <td>Pennsylvania</td>\n",
       "      <td>11.3</td>\n",
       "      <td>249</td>\n",
       "      <td>72</td>\n",
       "      <td>26.2</td>\n",
       "      <td>1</td>\n",
       "      <td>high</td>\n",
       "    </tr>\n",
       "    <tr>\n",
       "      <th>38</th>\n",
       "      <td>Rhode Island</td>\n",
       "      <td>11.4</td>\n",
       "      <td>252</td>\n",
       "      <td>87</td>\n",
       "      <td>26.9</td>\n",
       "      <td>1</td>\n",
       "      <td>high</td>\n",
       "    </tr>\n",
       "    <tr>\n",
       "      <th>39</th>\n",
       "      <td>South Carolina</td>\n",
       "      <td>12.1</td>\n",
       "      <td>254</td>\n",
       "      <td>48</td>\n",
       "      <td>27.8</td>\n",
       "      <td>1</td>\n",
       "      <td>high</td>\n",
       "    </tr>\n",
       "    <tr>\n",
       "      <th>40</th>\n",
       "      <td>South Dakota</td>\n",
       "      <td>12.2</td>\n",
       "      <td>255</td>\n",
       "      <td>45</td>\n",
       "      <td>28.2</td>\n",
       "      <td>1</td>\n",
       "      <td>high</td>\n",
       "    </tr>\n",
       "    <tr>\n",
       "      <th>41</th>\n",
       "      <td>Tennessee</td>\n",
       "      <td>12.7</td>\n",
       "      <td>259</td>\n",
       "      <td>59</td>\n",
       "      <td>29.3</td>\n",
       "      <td>1</td>\n",
       "      <td>high</td>\n",
       "    </tr>\n",
       "    <tr>\n",
       "      <th>45</th>\n",
       "      <td>Virginia</td>\n",
       "      <td>14.4</td>\n",
       "      <td>285</td>\n",
       "      <td>63</td>\n",
       "      <td>35.1</td>\n",
       "      <td>1</td>\n",
       "      <td>high</td>\n",
       "    </tr>\n",
       "    <tr>\n",
       "      <th>43</th>\n",
       "      <td>Utah</td>\n",
       "      <td>13.2</td>\n",
       "      <td>276</td>\n",
       "      <td>80</td>\n",
       "      <td>31.9</td>\n",
       "      <td>1</td>\n",
       "      <td>high</td>\n",
       "    </tr>\n",
       "    <tr>\n",
       "      <th>44</th>\n",
       "      <td>Vermont</td>\n",
       "      <td>13.2</td>\n",
       "      <td>279</td>\n",
       "      <td>32</td>\n",
       "      <td>32.1</td>\n",
       "      <td>1</td>\n",
       "      <td>high</td>\n",
       "    </tr>\n",
       "    <tr>\n",
       "      <th>46</th>\n",
       "      <td>Washington</td>\n",
       "      <td>15.4</td>\n",
       "      <td>294</td>\n",
       "      <td>73</td>\n",
       "      <td>38.7</td>\n",
       "      <td>1</td>\n",
       "      <td>high</td>\n",
       "    </tr>\n",
       "    <tr>\n",
       "      <th>47</th>\n",
       "      <td>West Virginia</td>\n",
       "      <td>15.4</td>\n",
       "      <td>300</td>\n",
       "      <td>39</td>\n",
       "      <td>40.6</td>\n",
       "      <td>1</td>\n",
       "      <td>high</td>\n",
       "    </tr>\n",
       "    <tr>\n",
       "      <th>35</th>\n",
       "      <td>Oklahoma</td>\n",
       "      <td>10.4</td>\n",
       "      <td>238</td>\n",
       "      <td>68</td>\n",
       "      <td>25.8</td>\n",
       "      <td>1</td>\n",
       "      <td>high</td>\n",
       "    </tr>\n",
       "    <tr>\n",
       "      <th>42</th>\n",
       "      <td>Texas</td>\n",
       "      <td>13.0</td>\n",
       "      <td>263</td>\n",
       "      <td>80</td>\n",
       "      <td>31.0</td>\n",
       "      <td>1</td>\n",
       "      <td>high</td>\n",
       "    </tr>\n",
       "    <tr>\n",
       "      <th>34</th>\n",
       "      <td>Ohio</td>\n",
       "      <td>10.0</td>\n",
       "      <td>236</td>\n",
       "      <td>75</td>\n",
       "      <td>25.5</td>\n",
       "      <td>1</td>\n",
       "      <td>high</td>\n",
       "    </tr>\n",
       "    <tr>\n",
       "      <th>49</th>\n",
       "      <td>Wyoming</td>\n",
       "      <td>17.4</td>\n",
       "      <td>337</td>\n",
       "      <td>60</td>\n",
       "      <td>46.0</td>\n",
       "      <td>1</td>\n",
       "      <td>high</td>\n",
       "    </tr>\n",
       "    <tr>\n",
       "      <th>48</th>\n",
       "      <td>Wisconsin</td>\n",
       "      <td>16.1</td>\n",
       "      <td>335</td>\n",
       "      <td>66</td>\n",
       "      <td>44.5</td>\n",
       "      <td>1</td>\n",
       "      <td>high</td>\n",
       "    </tr>\n",
       "    <tr>\n",
       "      <th>32</th>\n",
       "      <td>North Carolina</td>\n",
       "      <td>9.0</td>\n",
       "      <td>204</td>\n",
       "      <td>45</td>\n",
       "      <td>22.9</td>\n",
       "      <td>2</td>\n",
       "      <td>medium</td>\n",
       "    </tr>\n",
       "    <tr>\n",
       "      <th>31</th>\n",
       "      <td>New York</td>\n",
       "      <td>9.0</td>\n",
       "      <td>201</td>\n",
       "      <td>86</td>\n",
       "      <td>22.5</td>\n",
       "      <td>2</td>\n",
       "      <td>medium</td>\n",
       "    </tr>\n",
       "    <tr>\n",
       "      <th>30</th>\n",
       "      <td>New Mexico</td>\n",
       "      <td>8.8</td>\n",
       "      <td>190</td>\n",
       "      <td>70</td>\n",
       "      <td>22.2</td>\n",
       "      <td>2</td>\n",
       "      <td>medium</td>\n",
       "    </tr>\n",
       "    <tr>\n",
       "      <th>29</th>\n",
       "      <td>New Jersey</td>\n",
       "      <td>8.5</td>\n",
       "      <td>188</td>\n",
       "      <td>89</td>\n",
       "      <td>21.4</td>\n",
       "      <td>2</td>\n",
       "      <td>medium</td>\n",
       "    </tr>\n",
       "    <tr>\n",
       "      <th>28</th>\n",
       "      <td>New Hampshire</td>\n",
       "      <td>8.1</td>\n",
       "      <td>178</td>\n",
       "      <td>56</td>\n",
       "      <td>21.2</td>\n",
       "      <td>2</td>\n",
       "      <td>medium</td>\n",
       "    </tr>\n",
       "    <tr>\n",
       "      <th>27</th>\n",
       "      <td>Nevada</td>\n",
       "      <td>7.9</td>\n",
       "      <td>174</td>\n",
       "      <td>81</td>\n",
       "      <td>21.0</td>\n",
       "      <td>2</td>\n",
       "      <td>medium</td>\n",
       "    </tr>\n",
       "    <tr>\n",
       "      <th>26</th>\n",
       "      <td>Nebraska</td>\n",
       "      <td>7.4</td>\n",
       "      <td>161</td>\n",
       "      <td>62</td>\n",
       "      <td>20.7</td>\n",
       "      <td>2</td>\n",
       "      <td>medium</td>\n",
       "    </tr>\n",
       "    <tr>\n",
       "      <th>25</th>\n",
       "      <td>Montana</td>\n",
       "      <td>7.3</td>\n",
       "      <td>159</td>\n",
       "      <td>53</td>\n",
       "      <td>20.2</td>\n",
       "      <td>2</td>\n",
       "      <td>medium</td>\n",
       "    </tr>\n",
       "    <tr>\n",
       "      <th>23</th>\n",
       "      <td>Mississippi</td>\n",
       "      <td>6.8</td>\n",
       "      <td>156</td>\n",
       "      <td>44</td>\n",
       "      <td>19.5</td>\n",
       "      <td>2</td>\n",
       "      <td>medium</td>\n",
       "    </tr>\n",
       "    <tr>\n",
       "      <th>22</th>\n",
       "      <td>Minnesota</td>\n",
       "      <td>6.6</td>\n",
       "      <td>151</td>\n",
       "      <td>66</td>\n",
       "      <td>18.8</td>\n",
       "      <td>2</td>\n",
       "      <td>medium</td>\n",
       "    </tr>\n",
       "    <tr>\n",
       "      <th>21</th>\n",
       "      <td>Michigan</td>\n",
       "      <td>6.3</td>\n",
       "      <td>149</td>\n",
       "      <td>74</td>\n",
       "      <td>18.0</td>\n",
       "      <td>2</td>\n",
       "      <td>medium</td>\n",
       "    </tr>\n",
       "    <tr>\n",
       "      <th>20</th>\n",
       "      <td>Massachusetts</td>\n",
       "      <td>6.0</td>\n",
       "      <td>145</td>\n",
       "      <td>85</td>\n",
       "      <td>17.1</td>\n",
       "      <td>2</td>\n",
       "      <td>medium</td>\n",
       "    </tr>\n",
       "    <tr>\n",
       "      <th>33</th>\n",
       "      <td>North Dakota</td>\n",
       "      <td>9.7</td>\n",
       "      <td>211</td>\n",
       "      <td>44</td>\n",
       "      <td>24.0</td>\n",
       "      <td>2</td>\n",
       "      <td>medium</td>\n",
       "    </tr>\n",
       "    <tr>\n",
       "      <th>24</th>\n",
       "      <td>Missouri</td>\n",
       "      <td>7.2</td>\n",
       "      <td>159</td>\n",
       "      <td>70</td>\n",
       "      <td>20.0</td>\n",
       "      <td>2</td>\n",
       "      <td>medium</td>\n",
       "    </tr>\n",
       "  </tbody>\n",
       "</table>\n",
       "</div>"
      ],
      "text/plain": [
       "             State  Murder  Assault  UrbanPop  Rape  predicted_clusters  \\\n",
       "0          Alabama     0.8       45        58   7.3                   0   \n",
       "19        Maryland     6.0      120        67  16.5                   0   \n",
       "18           Maine     5.9      120        51  16.4                   0   \n",
       "17       Louisiana     5.7      120        66  16.3                   0   \n",
       "15          Kansas     4.9      113        66  16.1                   0   \n",
       "14            Iowa     4.4      110        57  15.8                   0   \n",
       "13         Indiana     4.3      109        65  15.6                   0   \n",
       "12        Illinois     4.0      109        83  14.9                   0   \n",
       "11           Idaho     3.8      106        54  14.9                   0   \n",
       "10          Hawaii     3.4      102        83  14.2                   0   \n",
       "16        Kentucky     5.3      115        52  16.3                   0   \n",
       "8          Florida     3.2       83        80  11.3                   0   \n",
       "7         Delaware     2.7       81        72  11.2                   0   \n",
       "6      Connecticut     2.6       72        77  11.1                   0   \n",
       "5         Colorado     2.6       57        78  10.8                   0   \n",
       "4       California     2.2       56        91   9.5                   0   \n",
       "3         Arkansas     2.2       53        50   9.3                   0   \n",
       "2          Arizona     2.1       48        80   8.3                   0   \n",
       "1           Alaska     2.1       46        48   7.8                   0   \n",
       "9          Georgia     3.3       86        60  12.8                   0   \n",
       "36          Oregon    11.1      249        67  26.1                   1   \n",
       "37    Pennsylvania    11.3      249        72  26.2                   1   \n",
       "38    Rhode Island    11.4      252        87  26.9                   1   \n",
       "39  South Carolina    12.1      254        48  27.8                   1   \n",
       "40    South Dakota    12.2      255        45  28.2                   1   \n",
       "41       Tennessee    12.7      259        59  29.3                   1   \n",
       "45        Virginia    14.4      285        63  35.1                   1   \n",
       "43            Utah    13.2      276        80  31.9                   1   \n",
       "44         Vermont    13.2      279        32  32.1                   1   \n",
       "46      Washington    15.4      294        73  38.7                   1   \n",
       "47   West Virginia    15.4      300        39  40.6                   1   \n",
       "35        Oklahoma    10.4      238        68  25.8                   1   \n",
       "42           Texas    13.0      263        80  31.0                   1   \n",
       "34            Ohio    10.0      236        75  25.5                   1   \n",
       "49         Wyoming    17.4      337        60  46.0                   1   \n",
       "48       Wisconsin    16.1      335        66  44.5                   1   \n",
       "32  North Carolina     9.0      204        45  22.9                   2   \n",
       "31        New York     9.0      201        86  22.5                   2   \n",
       "30      New Mexico     8.8      190        70  22.2                   2   \n",
       "29      New Jersey     8.5      188        89  21.4                   2   \n",
       "28   New Hampshire     8.1      178        56  21.2                   2   \n",
       "27          Nevada     7.9      174        81  21.0                   2   \n",
       "26        Nebraska     7.4      161        62  20.7                   2   \n",
       "25         Montana     7.3      159        53  20.2                   2   \n",
       "23     Mississippi     6.8      156        44  19.5                   2   \n",
       "22       Minnesota     6.6      151        66  18.8                   2   \n",
       "21        Michigan     6.3      149        74  18.0                   2   \n",
       "20   Massachusetts     6.0      145        85  17.1                   2   \n",
       "33    North Dakota     9.7      211        44  24.0                   2   \n",
       "24        Missouri     7.2      159        70  20.0                   2   \n",
       "\n",
       "   crime_level  \n",
       "0          low  \n",
       "19         low  \n",
       "18         low  \n",
       "17         low  \n",
       "15         low  \n",
       "14         low  \n",
       "13         low  \n",
       "12         low  \n",
       "11         low  \n",
       "10         low  \n",
       "16         low  \n",
       "8          low  \n",
       "7          low  \n",
       "6          low  \n",
       "5          low  \n",
       "4          low  \n",
       "3          low  \n",
       "2          low  \n",
       "1          low  \n",
       "9          low  \n",
       "36        high  \n",
       "37        high  \n",
       "38        high  \n",
       "39        high  \n",
       "40        high  \n",
       "41        high  \n",
       "45        high  \n",
       "43        high  \n",
       "44        high  \n",
       "46        high  \n",
       "47        high  \n",
       "35        high  \n",
       "42        high  \n",
       "34        high  \n",
       "49        high  \n",
       "48        high  \n",
       "32      medium  \n",
       "31      medium  \n",
       "30      medium  \n",
       "29      medium  \n",
       "28      medium  \n",
       "27      medium  \n",
       "26      medium  \n",
       "25      medium  \n",
       "23      medium  \n",
       "22      medium  \n",
       "21      medium  \n",
       "20      medium  \n",
       "33      medium  \n",
       "24      medium  "
      ]
     },
     "execution_count": 52,
     "metadata": {},
     "output_type": "execute_result"
    }
   ],
   "source": [
    "df.sort_values(\"predicted_clusters\")"
   ]
  },
  {
   "cell_type": "code",
   "execution_count": null,
   "id": "1307adee-1129-485e-947e-c90313dc116e",
   "metadata": {},
   "outputs": [],
   "source": []
  }
 ],
 "metadata": {
  "kernelspec": {
   "display_name": "intelstack (intelml)",
   "language": "python",
   "name": "intelml"
  },
  "language_info": {
   "codemirror_mode": {
    "name": "ipython",
    "version": 3
   },
   "file_extension": ".py",
   "mimetype": "text/x-python",
   "name": "python",
   "nbconvert_exporter": "python",
   "pygments_lexer": "ipython3",
   "version": "3.7.11"
  }
 },
 "nbformat": 4,
 "nbformat_minor": 5
}
